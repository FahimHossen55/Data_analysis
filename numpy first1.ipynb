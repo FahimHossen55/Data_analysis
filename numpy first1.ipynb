{
 "cells": [
  {
   "cell_type": "code",
   "execution_count": 1,
   "id": "8511ef80",
   "metadata": {},
   "outputs": [],
   "source": [
    "import pandas as pd"
   ]
  },
  {
   "cell_type": "code",
   "execution_count": 2,
   "id": "ac804765",
   "metadata": {},
   "outputs": [],
   "source": [
    "import numpy as nm "
   ]
  },
  {
   "cell_type": "code",
   "execution_count": 3,
   "id": "48998e81",
   "metadata": {},
   "outputs": [
    {
     "name": "stdout",
     "output_type": "stream",
     "text": [
      "hello\n"
     ]
    }
   ],
   "source": [
    " print(\"hello\")"
   ]
  },
  {
   "cell_type": "code",
   "execution_count": 4,
   "id": "6d270fc6",
   "metadata": {},
   "outputs": [],
   "source": [
    "a =[21,11,31,234,234,1341,413]"
   ]
  },
  {
   "cell_type": "code",
   "execution_count": 5,
   "id": "e3af665e",
   "metadata": {},
   "outputs": [
    {
     "data": {
      "text/plain": [
       "[21, 11, 31, 234, 234, 1341, 413]"
      ]
     },
     "execution_count": 5,
     "metadata": {},
     "output_type": "execute_result"
    }
   ],
   "source": [
    "a"
   ]
  },
  {
   "cell_type": "code",
   "execution_count": 6,
   "id": "3333f70c",
   "metadata": {},
   "outputs": [],
   "source": [
    "import numpy as np"
   ]
  },
  {
   "cell_type": "code",
   "execution_count": 7,
   "id": "3bad5ba3",
   "metadata": {},
   "outputs": [],
   "source": [
    "arr = np.array(a)"
   ]
  },
  {
   "cell_type": "code",
   "execution_count": 8,
   "id": "1738c076",
   "metadata": {},
   "outputs": [
    {
     "data": {
      "text/plain": [
       "array([  21,   11,   31,  234,  234, 1341,  413])"
      ]
     },
     "execution_count": 8,
     "metadata": {},
     "output_type": "execute_result"
    }
   ],
   "source": [
    "arr"
   ]
  },
  {
   "cell_type": "code",
   "execution_count": 9,
   "id": "f84bcd3c",
   "metadata": {},
   "outputs": [],
   "source": [
    "arr2 = np.array([1,2,3,4,5])"
   ]
  },
  {
   "cell_type": "code",
   "execution_count": 10,
   "id": "6db89128",
   "metadata": {},
   "outputs": [
    {
     "data": {
      "text/plain": [
       "array([1, 2, 3, 4, 5])"
      ]
     },
     "execution_count": 10,
     "metadata": {},
     "output_type": "execute_result"
    }
   ],
   "source": [
    "arr2"
   ]
  },
  {
   "cell_type": "code",
   "execution_count": 11,
   "id": "2550aee2",
   "metadata": {},
   "outputs": [
    {
     "name": "stdout",
     "output_type": "stream",
     "text": [
      "Enter soize of the array :1\n",
      "Enter nummber :2\n"
     ]
    }
   ],
   "source": [
    "arr3 =[]\n",
    "n = int(input(\"Enter soize of the array :\")) \n",
    "for i in range(n):\n",
    "    val = int(input(\"Enter nummber :\")) \n",
    "    arr3.append(val) \n",
    "    \n",
    "    "
   ]
  },
  {
   "cell_type": "code",
   "execution_count": 12,
   "id": "4c0c9c6d",
   "metadata": {},
   "outputs": [
    {
     "data": {
      "text/plain": [
       "[2]"
      ]
     },
     "execution_count": 12,
     "metadata": {},
     "output_type": "execute_result"
    }
   ],
   "source": [
    "arr3"
   ]
  },
  {
   "cell_type": "code",
   "execution_count": 13,
   "id": "32e5b96e",
   "metadata": {},
   "outputs": [],
   "source": [
    " arr4 = np.array(arr3)"
   ]
  },
  {
   "cell_type": "code",
   "execution_count": 14,
   "id": "106d26b8",
   "metadata": {},
   "outputs": [
    {
     "data": {
      "text/plain": [
       "array([2])"
      ]
     },
     "execution_count": 14,
     "metadata": {},
     "output_type": "execute_result"
    }
   ],
   "source": [
    "arr4"
   ]
  },
  {
   "cell_type": "code",
   "execution_count": 15,
   "id": "8a0717c2",
   "metadata": {},
   "outputs": [],
   "source": [
    "a= [[12 , 3234 ,34],[324,413,135], [41344,144,124]] "
   ]
  },
  {
   "cell_type": "code",
   "execution_count": 16,
   "id": "6ca5f9df",
   "metadata": {},
   "outputs": [
    {
     "data": {
      "text/plain": [
       "[[12, 3234, 34], [324, 413, 135], [41344, 144, 124]]"
      ]
     },
     "execution_count": 16,
     "metadata": {},
     "output_type": "execute_result"
    }
   ],
   "source": [
    "a\n"
   ]
  },
  {
   "cell_type": "code",
   "execution_count": 17,
   "id": "e63fc68f",
   "metadata": {},
   "outputs": [],
   "source": [
    "a= np.array(a)"
   ]
  },
  {
   "cell_type": "code",
   "execution_count": 18,
   "id": "d2a8ec9a",
   "metadata": {},
   "outputs": [
    {
     "data": {
      "text/plain": [
       "array([[   12,  3234,    34],\n",
       "       [  324,   413,   135],\n",
       "       [41344,   144,   124]])"
      ]
     },
     "execution_count": 18,
     "metadata": {},
     "output_type": "execute_result"
    }
   ],
   "source": [
    "a\n",
    "\n"
   ]
  },
  {
   "cell_type": "code",
   "execution_count": 19,
   "id": "3d15a4e2",
   "metadata": {},
   "outputs": [
    {
     "data": {
      "text/plain": [
       "(3, 3)"
      ]
     },
     "execution_count": 19,
     "metadata": {},
     "output_type": "execute_result"
    }
   ],
   "source": [
    "a.shape\n"
   ]
  },
  {
   "cell_type": "code",
   "execution_count": 20,
   "id": "d19f0323",
   "metadata": {},
   "outputs": [],
   "source": [
    " a = np.zeros(10)"
   ]
  },
  {
   "cell_type": "code",
   "execution_count": 21,
   "id": "90677603",
   "metadata": {},
   "outputs": [
    {
     "data": {
      "text/plain": [
       "array([0., 0., 0., 0., 0., 0., 0., 0., 0., 0.])"
      ]
     },
     "execution_count": 21,
     "metadata": {},
     "output_type": "execute_result"
    }
   ],
   "source": [
    "a"
   ]
  },
  {
   "cell_type": "code",
   "execution_count": 22,
   "id": "61d74339",
   "metadata": {},
   "outputs": [],
   "source": [
    "a =  np.ones((10,10))"
   ]
  },
  {
   "cell_type": "code",
   "execution_count": 23,
   "id": "db67600d",
   "metadata": {},
   "outputs": [
    {
     "data": {
      "text/plain": [
       "array([[1., 1., 1., 1., 1., 1., 1., 1., 1., 1.],\n",
       "       [1., 1., 1., 1., 1., 1., 1., 1., 1., 1.],\n",
       "       [1., 1., 1., 1., 1., 1., 1., 1., 1., 1.],\n",
       "       [1., 1., 1., 1., 1., 1., 1., 1., 1., 1.],\n",
       "       [1., 1., 1., 1., 1., 1., 1., 1., 1., 1.],\n",
       "       [1., 1., 1., 1., 1., 1., 1., 1., 1., 1.],\n",
       "       [1., 1., 1., 1., 1., 1., 1., 1., 1., 1.],\n",
       "       [1., 1., 1., 1., 1., 1., 1., 1., 1., 1.],\n",
       "       [1., 1., 1., 1., 1., 1., 1., 1., 1., 1.],\n",
       "       [1., 1., 1., 1., 1., 1., 1., 1., 1., 1.]])"
      ]
     },
     "execution_count": 23,
     "metadata": {},
     "output_type": "execute_result"
    }
   ],
   "source": [
    "a"
   ]
  },
  {
   "cell_type": "code",
   "execution_count": 24,
   "id": "a192d456",
   "metadata": {},
   "outputs": [
    {
     "data": {
      "text/plain": [
       "array([[1., 1., 1., 1., 1., 1., 1., 1., 1., 1.],\n",
       "       [1., 1., 1., 1., 1., 1., 1., 1., 1., 1.],\n",
       "       [1., 1., 1., 1., 1., 1., 1., 1., 1., 1.],\n",
       "       [1., 1., 1., 1., 1., 1., 1., 1., 1., 1.],\n",
       "       [1., 1., 1., 1., 1., 1., 1., 1., 1., 1.],\n",
       "       [1., 1., 1., 1., 1., 1., 1., 1., 1., 1.],\n",
       "       [1., 1., 1., 1., 1., 1., 1., 1., 1., 1.],\n",
       "       [1., 1., 1., 1., 1., 1., 1., 1., 1., 1.],\n",
       "       [1., 1., 1., 1., 1., 1., 1., 1., 1., 1.],\n",
       "       [1., 1., 1., 1., 1., 1., 1., 1., 1., 1.]])"
      ]
     },
     "execution_count": 24,
     "metadata": {},
     "output_type": "execute_result"
    }
   ],
   "source": [
    "a"
   ]
  },
  {
   "cell_type": "code",
   "execution_count": 25,
   "id": "eee73976",
   "metadata": {},
   "outputs": [],
   "source": [
    "arr = np.eye(3,4)"
   ]
  },
  {
   "cell_type": "code",
   "execution_count": 26,
   "id": "065e8f0a",
   "metadata": {},
   "outputs": [
    {
     "data": {
      "text/plain": [
       "array([[1., 0., 0., 0.],\n",
       "       [0., 1., 0., 0.],\n",
       "       [0., 0., 1., 0.]])"
      ]
     },
     "execution_count": 26,
     "metadata": {},
     "output_type": "execute_result"
    }
   ],
   "source": [
    "arr"
   ]
  },
  {
   "cell_type": "code",
   "execution_count": 27,
   "id": "98b135e9",
   "metadata": {},
   "outputs": [],
   "source": [
    "arr=  np.eye(4,4)"
   ]
  },
  {
   "cell_type": "code",
   "execution_count": 28,
   "id": "86008336",
   "metadata": {},
   "outputs": [],
   "source": [
    "arr= np.diag([2,3,4,5])"
   ]
  },
  {
   "cell_type": "code",
   "execution_count": 29,
   "id": "748d2b1c",
   "metadata": {},
   "outputs": [
    {
     "data": {
      "text/plain": [
       "array([[2, 0, 0, 0],\n",
       "       [0, 3, 0, 0],\n",
       "       [0, 0, 4, 0],\n",
       "       [0, 0, 0, 5]])"
      ]
     },
     "execution_count": 29,
     "metadata": {},
     "output_type": "execute_result"
    }
   ],
   "source": [
    "arr\n"
   ]
  },
  {
   "cell_type": "code",
   "execution_count": 30,
   "id": "f3e98ea3",
   "metadata": {},
   "outputs": [
    {
     "data": {
      "text/plain": [
       "array([2, 3, 4, 5])"
      ]
     },
     "execution_count": 30,
     "metadata": {},
     "output_type": "execute_result"
    }
   ],
   "source": [
    "np.diag(arr)\n"
   ]
  },
  {
   "cell_type": "code",
   "execution_count": 31,
   "id": "a46ae110",
   "metadata": {},
   "outputs": [],
   "source": [
    "num = np.random.randint(1,10,10)"
   ]
  },
  {
   "cell_type": "code",
   "execution_count": 32,
   "id": "1cdaf9a5",
   "metadata": {},
   "outputs": [
    {
     "data": {
      "text/plain": [
       "array([1, 5, 4, 8, 7, 5, 2, 5, 9, 7])"
      ]
     },
     "execution_count": 32,
     "metadata": {},
     "output_type": "execute_result"
    }
   ],
   "source": [
    "num"
   ]
  },
  {
   "cell_type": "code",
   "execution_count": 33,
   "id": "f13baf00",
   "metadata": {},
   "outputs": [
    {
     "ename": "AttributeError",
     "evalue": "'numpy.ndarray' object has no attribute 'count'",
     "output_type": "error",
     "traceback": [
      "\u001b[0;31m---------------------------------------------------------------------------\u001b[0m",
      "\u001b[0;31mAttributeError\u001b[0m                            Traceback (most recent call last)",
      "\u001b[0;32m/tmp/ipykernel_37400/2141662707.py\u001b[0m in \u001b[0;36m<module>\u001b[0;34m\u001b[0m\n\u001b[0;32m----> 1\u001b[0;31m \u001b[0mnum\u001b[0m\u001b[0;34m.\u001b[0m\u001b[0mcount\u001b[0m\u001b[0;34m(\u001b[0m\u001b[0;34m)\u001b[0m\u001b[0;34m\u001b[0m\u001b[0;34m\u001b[0m\u001b[0m\n\u001b[0m",
      "\u001b[0;31mAttributeError\u001b[0m: 'numpy.ndarray' object has no attribute 'count'"
     ]
    }
   ],
   "source": [
    "num.count()"
   ]
  },
  {
   "cell_type": "code",
   "execution_count": null,
   "id": "88386394",
   "metadata": {},
   "outputs": [],
   "source": [
    "num"
   ]
  },
  {
   "cell_type": "raw",
   "id": "801f965c",
   "metadata": {},
   "source": []
  },
  {
   "cell_type": "code",
   "execution_count": null,
   "id": "4ecaee33",
   "metadata": {},
   "outputs": [],
   "source": []
  },
  {
   "cell_type": "code",
   "execution_count": null,
   "id": "fe982d36",
   "metadata": {},
   "outputs": [],
   "source": [
    "arr = np.random.rand(10)"
   ]
  },
  {
   "cell_type": "raw",
   "id": "1747a158",
   "metadata": {},
   "source": [
    "arr"
   ]
  },
  {
   "cell_type": "code",
   "execution_count": null,
   "id": "83efd498",
   "metadata": {},
   "outputs": [],
   "source": [
    "arr"
   ]
  },
  {
   "cell_type": "code",
   "execution_count": null,
   "id": "466a0085",
   "metadata": {},
   "outputs": [],
   "source": []
  },
  {
   "cell_type": "code",
   "execution_count": null,
   "id": "123d8153",
   "metadata": {},
   "outputs": [],
   "source": [
    "arr"
   ]
  },
  {
   "cell_type": "code",
   "execution_count": null,
   "id": "627d3c8f",
   "metadata": {},
   "outputs": [],
   "source": [
    "arr"
   ]
  },
  {
   "cell_type": "code",
   "execution_count": null,
   "id": "504c0e74",
   "metadata": {},
   "outputs": [],
   "source": [
    "ar = np.random.rand(2,4)"
   ]
  },
  {
   "cell_type": "raw",
   "id": "1bd56322",
   "metadata": {},
   "source": [
    "ar"
   ]
  },
  {
   "cell_type": "code",
   "execution_count": null,
   "id": "83718fda",
   "metadata": {},
   "outputs": [],
   "source": [
    "arr  = np.random.randn(5)"
   ]
  },
  {
   "cell_type": "code",
   "execution_count": null,
   "id": "7ef677ec",
   "metadata": {},
   "outputs": [],
   "source": [
    "arr"
   ]
  },
  {
   "cell_type": "code",
   "execution_count": null,
   "id": "d3a86e0a",
   "metadata": {},
   "outputs": [],
   "source": [
    "for i in range(arr.size) :\n",
    "    print(i+1 , \" = \" , arr[i])"
   ]
  },
  {
   "cell_type": "markdown",
   "id": "d832e877",
   "metadata": {},
   "source": [
    "## ARRAY Slicing "
   ]
  },
  {
   "cell_type": "markdown",
   "id": "87dd2622",
   "metadata": {},
   "source": [
    " ### Reshaping the array "
   ]
  },
  {
   "cell_type": "code",
   "execution_count": null,
   "id": "320f4a98",
   "metadata": {},
   "outputs": [],
   "source": [
    " a = np.arange(1,10)"
   ]
  },
  {
   "cell_type": "code",
   "execution_count": null,
   "id": "0d440892",
   "metadata": {},
   "outputs": [],
   "source": [
    "a\n"
   ]
  },
  {
   "cell_type": "code",
   "execution_count": null,
   "id": "191dbb3f",
   "metadata": {},
   "outputs": [],
   "source": [
    " ar =a.reshape(3,3)"
   ]
  },
  {
   "cell_type": "code",
   "execution_count": null,
   "id": "5cde25f5",
   "metadata": {},
   "outputs": [],
   "source": [
    "a"
   ]
  },
  {
   "cell_type": "code",
   "execution_count": null,
   "id": "a5544f6d",
   "metadata": {},
   "outputs": [],
   "source": [
    "ar "
   ]
  },
  {
   "cell_type": "code",
   "execution_count": null,
   "id": "2aa877d1",
   "metadata": {},
   "outputs": [],
   "source": [
    "ar.size"
   ]
  },
  {
   "cell_type": "code",
   "execution_count": null,
   "id": "4d06ddf6",
   "metadata": {},
   "outputs": [],
   "source": [
    "a=  np.arange(12)"
   ]
  },
  {
   "cell_type": "code",
   "execution_count": null,
   "id": "bb1d473c",
   "metadata": {},
   "outputs": [],
   "source": [
    "a"
   ]
  },
  {
   "cell_type": "code",
   "execution_count": null,
   "id": "d8d78827",
   "metadata": {},
   "outputs": [],
   "source": [
    "ar= a.reshape(3,4)"
   ]
  },
  {
   "cell_type": "code",
   "execution_count": null,
   "id": "82595516",
   "metadata": {},
   "outputs": [],
   "source": [
    "ar"
   ]
  },
  {
   "cell_type": "code",
   "execution_count": null,
   "id": "09731929",
   "metadata": {},
   "outputs": [],
   "source": [
    "ar= ar.reshape(6,2)"
   ]
  },
  {
   "cell_type": "code",
   "execution_count": null,
   "id": "c6a5d1fb",
   "metadata": {},
   "outputs": [],
   "source": [
    "ar "
   ]
  },
  {
   "cell_type": "code",
   "execution_count": null,
   "id": "f8836bf5",
   "metadata": {},
   "outputs": [],
   "source": [
    "a= np.random.rand(10)"
   ]
  },
  {
   "cell_type": "code",
   "execution_count": null,
   "id": "62221dd1",
   "metadata": {},
   "outputs": [],
   "source": [
    "a.reshape(2,5)"
   ]
  },
  {
   "cell_type": "code",
   "execution_count": null,
   "id": "85ffa14d",
   "metadata": {},
   "outputs": [],
   "source": [
    "a.reshape(1,10)"
   ]
  },
  {
   "cell_type": "code",
   "execution_count": null,
   "id": "b605d1db",
   "metadata": {},
   "outputs": [],
   "source": [
    "a.reshape(2,-1)"
   ]
  },
  {
   "cell_type": "code",
   "execution_count": null,
   "id": "b8d6ab0f",
   "metadata": {},
   "outputs": [],
   "source": [
    "a.reshape(-1,5)"
   ]
  },
  {
   "cell_type": "code",
   "execution_count": null,
   "id": "1913fdd7",
   "metadata": {},
   "outputs": [],
   "source": []
  },
  {
   "cell_type": "code",
   "execution_count": null,
   "id": "fede8bc2",
   "metadata": {},
   "outputs": [],
   "source": [
    "np.random.seed(12)\n",
    "np.random.randint(1,100,10) "
   ]
  },
  {
   "cell_type": "code",
   "execution_count": null,
   "id": "706dc04a",
   "metadata": {},
   "outputs": [],
   "source": [
    "a = np.arange(1,10)"
   ]
  },
  {
   "cell_type": "code",
   "execution_count": null,
   "id": "da1ea207",
   "metadata": {},
   "outputs": [],
   "source": [
    "a"
   ]
  },
  {
   "cell_type": "code",
   "execution_count": null,
   "id": "adf4c7c8",
   "metadata": {},
   "outputs": [],
   "source": [
    "cp = np.view(a)"
   ]
  },
  {
   "cell_type": "code",
   "execution_count": null,
   "id": "7208a500",
   "metadata": {},
   "outputs": [],
   "source": [
    "cp"
   ]
  },
  {
   "cell_type": "code",
   "execution_count": null,
   "id": "fe14618e",
   "metadata": {},
   "outputs": [],
   "source": [
    "type(cp)"
   ]
  },
  {
   "cell_type": "code",
   "execution_count": null,
   "id": "b6858dd7",
   "metadata": {},
   "outputs": [],
   "source": [
    "cp= np.append([1])"
   ]
  },
  {
   "cell_type": "code",
   "execution_count": null,
   "id": "e70af0b6",
   "metadata": {},
   "outputs": [],
   "source": [
    "slicing  = a[3:7].copy()"
   ]
  },
  {
   "cell_type": "code",
   "execution_count": null,
   "id": "9f5ed2cb",
   "metadata": {},
   "outputs": [],
   "source": [
    "slicing"
   ]
  },
  {
   "cell_type": "markdown",
   "id": "beb21a6b",
   "metadata": {},
   "source": [
    "###View and Copy "
   ]
  },
  {
   "cell_type": "markdown",
   "id": "24053ea7",
   "metadata": {},
   "source": [
    "##View and Copy "
   ]
  },
  {
   "cell_type": "code",
   "execution_count": null,
   "id": "51c14252",
   "metadata": {},
   "outputs": [],
   "source": [
    "a"
   ]
  },
  {
   "cell_type": "code",
   "execution_count": null,
   "id": "4c359eca",
   "metadata": {},
   "outputs": [],
   "source": [
    "slicing[:]"
   ]
  },
  {
   "cell_type": "code",
   "execution_count": null,
   "id": "5454eca6",
   "metadata": {},
   "outputs": [],
   "source": [
    "a[:]"
   ]
  },
  {
   "cell_type": "code",
   "execution_count": null,
   "id": "8a115eea",
   "metadata": {},
   "outputs": [],
   "source": [
    "slicing "
   ]
  },
  {
   "cell_type": "code",
   "execution_count": null,
   "id": "e206d5c3",
   "metadata": {},
   "outputs": [],
   "source": [
    "a = slicing[-1:-1]"
   ]
  },
  {
   "cell_type": "code",
   "execution_count": null,
   "id": "7954e8ea",
   "metadata": {},
   "outputs": [],
   "source": [
    "a"
   ]
  },
  {
   "cell_type": "code",
   "execution_count": null,
   "id": "a1cfc9a9",
   "metadata": {},
   "outputs": [],
   "source": [
    "type(a)"
   ]
  },
  {
   "cell_type": "markdown",
   "id": "112d40b4",
   "metadata": {},
   "source": [
    "###conditional Selection"
   ]
  },
  {
   "cell_type": "markdown",
   "id": "175d93d9",
   "metadata": {},
   "source": [
    "## Contional selection"
   ]
  },
  {
   "cell_type": "code",
   "execution_count": null,
   "id": "df524651",
   "metadata": {},
   "outputs": [],
   "source": [
    "arr = np.arange(1,15)"
   ]
  },
  {
   "cell_type": "code",
   "execution_count": null,
   "id": "19eff996",
   "metadata": {},
   "outputs": [],
   "source": [
    "arr"
   ]
  },
  {
   "cell_type": "code",
   "execution_count": null,
   "id": "5a4e7bf0",
   "metadata": {},
   "outputs": [],
   "source": [
    "arr>10"
   ]
  },
  {
   "cell_type": "code",
   "execution_count": null,
   "id": "62a90d9b",
   "metadata": {},
   "outputs": [],
   "source": [
    "arr[arr<5]"
   ]
  },
  {
   "cell_type": "code",
   "execution_count": null,
   "id": "9cad98af",
   "metadata": {},
   "outputs": [],
   "source": [
    "f = np.array([12,3,35,144,5,556,125,542,62,56,56,2,56,562356,5,26,62356,235])"
   ]
  },
  {
   "cell_type": "code",
   "execution_count": null,
   "id": "59fd8f9c",
   "metadata": {},
   "outputs": [],
   "source": [
    "f"
   ]
  },
  {
   "cell_type": "code",
   "execution_count": null,
   "id": "583b3355",
   "metadata": {},
   "outputs": [],
   "source": [
    "f[f>100]"
   ]
  },
  {
   "cell_type": "code",
   "execution_count": null,
   "id": "30943cd6",
   "metadata": {},
   "outputs": [],
   "source": [
    " f [f==144]"
   ]
  },
  {
   "cell_type": "code",
   "execution_count": null,
   "id": "ad921d98",
   "metadata": {},
   "outputs": [],
   "source": [
    "f[f==5]"
   ]
  },
  {
   "cell_type": "code",
   "execution_count": null,
   "id": "8c3fc9a9",
   "metadata": {},
   "outputs": [],
   "source": [
    "arr[arr<20] = 0"
   ]
  },
  {
   "cell_type": "code",
   "execution_count": null,
   "id": "2999af25",
   "metadata": {},
   "outputs": [],
   "source": [
    "arr"
   ]
  },
  {
   "cell_type": "code",
   "execution_count": null,
   "id": "8559b8be",
   "metadata": {},
   "outputs": [],
   "source": [
    "f[f<20] =0 "
   ]
  },
  {
   "cell_type": "code",
   "execution_count": null,
   "id": "fa986ba8",
   "metadata": {},
   "outputs": [],
   "source": [
    "f\n"
   ]
  },
  {
   "cell_type": "code",
   "execution_count": null,
   "id": "674c117c",
   "metadata": {},
   "outputs": [],
   "source": [
    "f[f>20]= 100"
   ]
  },
  {
   "cell_type": "code",
   "execution_count": null,
   "id": "18da4bf2",
   "metadata": {},
   "outputs": [],
   "source": [
    "f"
   ]
  },
  {
   "cell_type": "code",
   "execution_count": null,
   "id": "214a6888",
   "metadata": {},
   "outputs": [],
   "source": [
    "f*3\n"
   ]
  },
  {
   "cell_type": "code",
   "execution_count": null,
   "id": "dfc6015b",
   "metadata": {},
   "outputs": [],
   "source": [
    "f"
   ]
  },
  {
   "cell_type": "code",
   "execution_count": null,
   "id": "30426d76",
   "metadata": {},
   "outputs": [],
   "source": [
    "arr+34"
   ]
  },
  {
   "cell_type": "code",
   "execution_count": null,
   "id": "2be528e2",
   "metadata": {},
   "outputs": [],
   "source": [
    "f+=34"
   ]
  },
  {
   "cell_type": "code",
   "execution_count": null,
   "id": "d122a967",
   "metadata": {},
   "outputs": [],
   "source": [
    "f"
   ]
  },
  {
   "cell_type": "code",
   "execution_count": null,
   "id": "1d600293",
   "metadata": {},
   "outputs": [],
   "source": [
    "f**5"
   ]
  },
  {
   "cell_type": "code",
   "execution_count": null,
   "id": "c3ed219a",
   "metadata": {},
   "outputs": [],
   "source": [
    "f//5"
   ]
  },
  {
   "cell_type": "code",
   "execution_count": null,
   "id": "4c6e1fef",
   "metadata": {},
   "outputs": [],
   "source": [
    "f**2"
   ]
  },
  {
   "cell_type": "code",
   "execution_count": null,
   "id": "20e4b72d",
   "metadata": {},
   "outputs": [],
   "source": [
    "f//2"
   ]
  },
  {
   "cell_type": "code",
   "execution_count": null,
   "id": "dacd9681",
   "metadata": {
    "scrolled": true
   },
   "outputs": [],
   "source": [
    "arr"
   ]
  },
  {
   "cell_type": "code",
   "execution_count": null,
   "id": "f0e7d67c",
   "metadata": {},
   "outputs": [],
   "source": [
    "arr = np.array([10,20,30,40,50,60,70,80,90,100])"
   ]
  },
  {
   "cell_type": "code",
   "execution_count": null,
   "id": "2d176286",
   "metadata": {},
   "outputs": [],
   "source": [
    "arr"
   ]
  },
  {
   "cell_type": "code",
   "execution_count": null,
   "id": "193326ff",
   "metadata": {},
   "outputs": [],
   "source": [
    "arr.min()"
   ]
  },
  {
   "cell_type": "markdown",
   "id": "fa0cf1eb",
   "metadata": {},
   "source": [
    "## Numpy Functions"
   ]
  },
  {
   "cell_type": "code",
   "execution_count": null,
   "id": "f8a487e5",
   "metadata": {},
   "outputs": [],
   "source": [
    "arr.min()"
   ]
  },
  {
   "cell_type": "code",
   "execution_count": null,
   "id": "59db71bc",
   "metadata": {},
   "outputs": [],
   "source": [
    "arr.max()"
   ]
  },
  {
   "cell_type": "code",
   "execution_count": null,
   "id": "cbbb7393",
   "metadata": {},
   "outputs": [],
   "source": [
    "arr.argmin()"
   ]
  },
  {
   "cell_type": "code",
   "execution_count": null,
   "id": "999db91d",
   "metadata": {},
   "outputs": [],
   "source": [
    "arr.argmax()"
   ]
  },
  {
   "cell_type": "code",
   "execution_count": null,
   "id": "3b16ae8a",
   "metadata": {},
   "outputs": [],
   "source": [
    "np.sqrt(arr)"
   ]
  },
  {
   "cell_type": "code",
   "execution_count": null,
   "id": "55ff26e3",
   "metadata": {},
   "outputs": [],
   "source": [
    "np.sin(arr)"
   ]
  },
  {
   "cell_type": "code",
   "execution_count": null,
   "id": "69e18447",
   "metadata": {},
   "outputs": [],
   "source": [
    "np.cos(arr)"
   ]
  },
  {
   "cell_type": "code",
   "execution_count": null,
   "id": "1f51f6d6",
   "metadata": {},
   "outputs": [],
   "source": [
    "m = np.random.randint(1,21,9).reshape(3,3)"
   ]
  },
  {
   "cell_type": "code",
   "execution_count": null,
   "id": "e40bdf2a",
   "metadata": {},
   "outputs": [],
   "source": [
    "m"
   ]
  },
  {
   "cell_type": "code",
   "execution_count": null,
   "id": "784dce56",
   "metadata": {},
   "outputs": [],
   "source": [
    "m.sum()\n"
   ]
  },
  {
   "cell_type": "code",
   "execution_count": null,
   "id": "e933fd60",
   "metadata": {},
   "outputs": [],
   "source": [
    "arr =  np.random.randint(1,21,10) "
   ]
  },
  {
   "cell_type": "code",
   "execution_count": null,
   "id": "d629225e",
   "metadata": {},
   "outputs": [],
   "source": [
    "np.unique(arr)"
   ]
  },
  {
   "cell_type": "code",
   "execution_count": null,
   "id": "3086af8f",
   "metadata": {},
   "outputs": [],
   "source": [
    "arr\n"
   ]
  },
  {
   "cell_type": "code",
   "execution_count": null,
   "id": "9e8414e1",
   "metadata": {},
   "outputs": [],
   "source": [
    "np.unique(arr).size"
   ]
  },
  {
   "cell_type": "markdown",
   "id": "aef565f1",
   "metadata": {},
   "source": [
    " ## numpy Stacking "
   ]
  },
  {
   "cell_type": "markdown",
   "id": "d96d6ae4",
   "metadata": {},
   "source": [
    " # there are two types of stacking  ---\n",
    "     1.vertical stacking 2. horizontal stacking "
   ]
  },
  {
   "cell_type": "code",
   "execution_count": null,
   "id": "5f26e053",
   "metadata": {},
   "outputs": [],
   "source": [
    "a1 = np.array([1,2,3,4,5])\n",
    "a2= np.array([6,7,8,9,10])"
   ]
  },
  {
   "cell_type": "code",
   "execution_count": null,
   "id": "97ffded8",
   "metadata": {},
   "outputs": [],
   "source": [
    "np.hstack((a1,a2))"
   ]
  },
  {
   "cell_type": "markdown",
   "id": "8e9736d6",
   "metadata": {},
   "source": [
    "##  index  Slicing "
   ]
  },
  {
   "cell_type": "code",
   "execution_count": null,
   "id": "037d2e58",
   "metadata": {},
   "outputs": [],
   "source": [
    " a = np.arange(1,10).reshape(3,3)"
   ]
  },
  {
   "cell_type": "code",
   "execution_count": null,
   "id": "d69c62da",
   "metadata": {},
   "outputs": [],
   "source": [
    "a"
   ]
  },
  {
   "cell_type": "code",
   "execution_count": null,
   "id": "ab4e38ab",
   "metadata": {},
   "outputs": [],
   "source": [
    "a[1:3,1:3]"
   ]
  },
  {
   "cell_type": "code",
   "execution_count": null,
   "id": "1bc9a60c",
   "metadata": {},
   "outputs": [],
   "source": [
    "a =  a.reshape(1,9)"
   ]
  },
  {
   "cell_type": "code",
   "execution_count": null,
   "id": "846c8f49",
   "metadata": {},
   "outputs": [],
   "source": [
    "a\n"
   ]
  },
  {
   "cell_type": "code",
   "execution_count": null,
   "id": "038beac9",
   "metadata": {},
   "outputs": [],
   "source": [
    "a[4:]"
   ]
  },
  {
   "cell_type": "code",
   "execution_count": null,
   "id": "d5335932",
   "metadata": {},
   "outputs": [],
   "source": [
    "a = np.array([1,2,3,4,5,6,7,8,9,10])"
   ]
  },
  {
   "cell_type": "code",
   "execution_count": null,
   "id": "6b07a858",
   "metadata": {},
   "outputs": [],
   "source": [
    "a[4:]"
   ]
  },
  {
   "cell_type": "code",
   "execution_count": null,
   "id": "f467e2b4",
   "metadata": {},
   "outputs": [],
   "source": [
    "a[3:]"
   ]
  },
  {
   "cell_type": "code",
   "execution_count": null,
   "id": "6e77f9af",
   "metadata": {},
   "outputs": [],
   "source": [
    "a[3:1]"
   ]
  },
  {
   "cell_type": "code",
   "execution_count": null,
   "id": "285f81a8",
   "metadata": {},
   "outputs": [],
   "source": [
    "a[-3:-1]"
   ]
  },
  {
   "cell_type": "code",
   "execution_count": null,
   "id": "2c141c2e",
   "metadata": {},
   "outputs": [],
   "source": [
    "a[1:5:2]"
   ]
  },
  {
   "cell_type": "code",
   "execution_count": null,
   "id": "421ad55b",
   "metadata": {},
   "outputs": [],
   "source": [
    " a = np.array([12,321,33,213,23,24,24,42,242,4,23,23]) "
   ]
  },
  {
   "cell_type": "code",
   "execution_count": null,
   "id": "6df0acd0",
   "metadata": {},
   "outputs": [],
   "source": [
    "a[::2]"
   ]
  },
  {
   "cell_type": "code",
   "execution_count": null,
   "id": "43ca123e",
   "metadata": {},
   "outputs": [],
   "source": [
    "a[::3]"
   ]
  },
  {
   "cell_type": "markdown",
   "id": "2428a05c",
   "metadata": {},
   "source": [
    "## Fancy Indexing "
   ]
  },
  {
   "cell_type": "code",
   "execution_count": null,
   "id": "1d54a2e0",
   "metadata": {},
   "outputs": [],
   "source": [
    "a = np.arange(1,10).reshape(3,3) "
   ]
  },
  {
   "cell_type": "code",
   "execution_count": null,
   "id": "05534223",
   "metadata": {},
   "outputs": [],
   "source": [
    "a\n"
   ]
  },
  {
   "cell_type": "code",
   "execution_count": null,
   "id": "a1cd1adb",
   "metadata": {},
   "outputs": [],
   "source": [
    "a[::2]"
   ]
  },
  {
   "cell_type": "code",
   "execution_count": null,
   "id": "d40a7f5c",
   "metadata": {},
   "outputs": [],
   "source": [
    "a[1]"
   ]
  },
  {
   "cell_type": "code",
   "execution_count": null,
   "id": "3fffe06f",
   "metadata": {},
   "outputs": [],
   "source": [
    "a[[0,2,3,5]]"
   ]
  },
  {
   "cell_type": "code",
   "execution_count": null,
   "id": "10429e74",
   "metadata": {},
   "outputs": [],
   "source": [
    "a[[0,2]]"
   ]
  },
  {
   "cell_type": "code",
   "execution_count": null,
   "id": "8d12a3df",
   "metadata": {},
   "outputs": [],
   "source": [
    "a = np.arange(1,21).reshape(5,4) "
   ]
  },
  {
   "cell_type": "code",
   "execution_count": null,
   "id": "547db958",
   "metadata": {},
   "outputs": [],
   "source": [
    "a"
   ]
  },
  {
   "cell_type": "code",
   "execution_count": null,
   "id": "643e0317",
   "metadata": {},
   "outputs": [],
   "source": [
    " a[[1,2,3]]"
   ]
  },
  {
   "cell_type": "code",
   "execution_count": null,
   "id": "21c0c6ed",
   "metadata": {},
   "outputs": [],
   "source": [
    "a[[2,4]]"
   ]
  },
  {
   "cell_type": "code",
   "execution_count": null,
   "id": "146eb329",
   "metadata": {},
   "outputs": [],
   "source": [
    "a[[0,3,3]]"
   ]
  },
  {
   "cell_type": "code",
   "execution_count": null,
   "id": "2a93cfbb",
   "metadata": {},
   "outputs": [],
   "source": [
    "a[:,[0,2,3,]]"
   ]
  },
  {
   "cell_type": "markdown",
   "id": "53eaded8",
   "metadata": {},
   "source": [
    " ## Boolean Indexing "
   ]
  },
  {
   "cell_type": "code",
   "execution_count": null,
   "id": "11c3a0fa",
   "metadata": {},
   "outputs": [],
   "source": [
    "a[a%2]"
   ]
  },
  {
   "cell_type": "code",
   "execution_count": null,
   "id": "41deccc8",
   "metadata": {},
   "outputs": [],
   "source": [
    "a\n"
   ]
  },
  {
   "cell_type": "code",
   "execution_count": null,
   "id": "e402fc5e",
   "metadata": {},
   "outputs": [],
   "source": [
    "a[a%2==1]"
   ]
  },
  {
   "cell_type": "code",
   "execution_count": null,
   "id": "d380fe19",
   "metadata": {},
   "outputs": [],
   "source": [
    "f= np.random.randint(1,100,24).reshape(6,4)"
   ]
  },
  {
   "cell_type": "code",
   "execution_count": null,
   "id": "aeef2127",
   "metadata": {},
   "outputs": [],
   "source": [
    "f"
   ]
  },
  {
   "cell_type": "code",
   "execution_count": null,
   "id": "cb67d471",
   "metadata": {},
   "outputs": [],
   "source": [
    "f[f>50]"
   ]
  },
  {
   "cell_type": "markdown",
   "id": "88193cd3",
   "metadata": {},
   "source": [
    " ## Find number which  is greater than 50 "
   ]
  },
  {
   "cell_type": "code",
   "execution_count": null,
   "id": "f18cc01a",
   "metadata": {},
   "outputs": [],
   "source": [
    "f[f>50]"
   ]
  },
  {
   "cell_type": "markdown",
   "id": "e80087de",
   "metadata": {},
   "source": [
    "## find all number greater than 50 "
   ]
  },
  {
   "cell_type": "code",
   "execution_count": null,
   "id": "a0ea49f1",
   "metadata": {},
   "outputs": [],
   "source": [
    "a[(a>50) & (a%2==0)]\n"
   ]
  },
  {
   "cell_type": "code",
   "execution_count": null,
   "id": "f99796ef",
   "metadata": {},
   "outputs": [],
   "source": [
    " a[~(a%7!=0)]"
   ]
  },
  {
   "cell_type": "code",
   "execution_count": null,
   "id": "d0bdb784",
   "metadata": {},
   "outputs": [],
   "source": [
    "a"
   ]
  },
  {
   "cell_type": "code",
   "execution_count": null,
   "id": "563c3a03",
   "metadata": {},
   "outputs": [],
   "source": [
    "a = np.array([23,24,42,424,2,2,244244,42,42])"
   ]
  },
  {
   "cell_type": "code",
   "execution_count": null,
   "id": "440ebb08",
   "metadata": {},
   "outputs": [],
   "source": [
    "a"
   ]
  },
  {
   "cell_type": "code",
   "execution_count": null,
   "id": "aff9e020",
   "metadata": {},
   "outputs": [],
   "source": [
    "a.size\n"
   ]
  },
  {
   "cell_type": "code",
   "execution_count": null,
   "id": "d4c5a2bb",
   "metadata": {},
   "outputs": [],
   "source": [
    "a =a.reshape(3,3)"
   ]
  },
  {
   "cell_type": "code",
   "execution_count": null,
   "id": "c083560e",
   "metadata": {},
   "outputs": [],
   "source": [
    "a+a\n"
   ]
  },
  {
   "cell_type": "code",
   "execution_count": null,
   "id": "6edf77fe",
   "metadata": {},
   "outputs": [],
   "source": [
    "print(a+a)"
   ]
  },
  {
   "cell_type": "code",
   "execution_count": null,
   "id": "ead009e9",
   "metadata": {},
   "outputs": [],
   "source": [
    "a"
   ]
  },
  {
   "cell_type": "code",
   "execution_count": null,
   "id": "c3223435",
   "metadata": {},
   "outputs": [],
   "source": [
    "a"
   ]
  },
  {
   "cell_type": "code",
   "execution_count": null,
   "id": "f9c787ef",
   "metadata": {},
   "outputs": [],
   "source": [
    "a+a"
   ]
  },
  {
   "cell_type": "code",
   "execution_count": null,
   "id": "0473cb66",
   "metadata": {},
   "outputs": [],
   "source": [
    "f "
   ]
  },
  {
   "cell_type": "code",
   "execution_count": null,
   "id": "bc98a477",
   "metadata": {},
   "outputs": [],
   "source": [
    "a+f"
   ]
  },
  {
   "cell_type": "code",
   "execution_count": null,
   "id": "e35d3ead",
   "metadata": {},
   "outputs": [],
   "source": [
    "a = np.arange(6).reshape(2,3)\n",
    "b= np.arange(6,12).reshape(3,2)\n",
    "\n",
    "print(a)\n",
    "print('\\n')\n",
    "print(b)\n",
    "print('\\n')\n",
    "print(a+b)"
   ]
  },
  {
   "cell_type": "code",
   "execution_count": null,
   "id": "da3ff661",
   "metadata": {},
   "outputs": [],
   "source": [
    "a\n"
   ]
  },
  {
   "cell_type": "code",
   "execution_count": null,
   "id": "b32824a3",
   "metadata": {},
   "outputs": [],
   "source": [
    "a= np.arange(10)"
   ]
  },
  {
   "cell_type": "code",
   "execution_count": null,
   "id": "d99e498c",
   "metadata": {},
   "outputs": [],
   "source": [
    "a\n"
   ]
  },
  {
   "cell_type": "code",
   "execution_count": null,
   "id": "22cc7130",
   "metadata": {},
   "outputs": [],
   "source": [
    "a.mean()"
   ]
  },
  {
   "cell_type": "markdown",
   "id": "4d790514",
   "metadata": {},
   "source": [
    "## mathmathmetical function "
   ]
  },
  {
   "cell_type": "markdown",
   "id": "c2b8c4b0",
   "metadata": {},
   "source": [
    " # Sigmoid "
   ]
  },
  {
   "cell_type": "code",
   "execution_count": null,
   "id": "bd94992d",
   "metadata": {},
   "outputs": [],
   "source": [
    "def sigmoid(array) :\n",
    "    return 1/(1+np.exp(-array)) \n"
   ]
  },
  {
   "cell_type": "code",
   "execution_count": null,
   "id": "3e6aa42f",
   "metadata": {},
   "outputs": [],
   "source": [
    "sigmoid(a)"
   ]
  },
  {
   "cell_type": "markdown",
   "id": "941f9da3",
   "metadata": {},
   "source": [
    " ## mean squared error "
   ]
  },
  {
   "cell_type": "code",
   "execution_count": null,
   "id": "b8706e11",
   "metadata": {},
   "outputs": [],
   "source": [
    "actual = np.random.randint(1,50,25) \n",
    "predicted = np.random.randint(1,50,25) \n"
   ]
  },
  {
   "cell_type": "code",
   "execution_count": null,
   "id": "01c3a73c",
   "metadata": {},
   "outputs": [],
   "source": [
    "actual"
   ]
  },
  {
   "cell_type": "code",
   "execution_count": null,
   "id": "8feb6ab8",
   "metadata": {},
   "outputs": [],
   "source": [
    "predicted"
   ]
  },
  {
   "cell_type": "code",
   "execution_count": null,
   "id": "fcbfcdb8",
   "metadata": {},
   "outputs": [],
   "source": [
    "def mse (actaul , predicted) :\n",
    "     return np.mean((actual - predicted)**2) "
   ]
  },
  {
   "cell_type": "code",
   "execution_count": null,
   "id": "3678a9a1",
   "metadata": {},
   "outputs": [],
   "source": [
    "mse(actual , predicted)"
   ]
  },
  {
   "cell_type": "markdown",
   "id": "f436847d",
   "metadata": {},
   "source": [
    " # Working with missing value "
   ]
  },
  {
   "cell_type": "code",
   "execution_count": null,
   "id": "92bbd09b",
   "metadata": {},
   "outputs": [],
   "source": [
    "a = np.array([1,2,3,4,5,6,6,np.nan ,23,4,3])"
   ]
  },
  {
   "cell_type": "code",
   "execution_count": null,
   "id": "9c974e9d",
   "metadata": {},
   "outputs": [],
   "source": [
    "a"
   ]
  },
  {
   "cell_type": "code",
   "execution_count": null,
   "id": "986f214d",
   "metadata": {},
   "outputs": [],
   "source": [
    "a.size"
   ]
  },
  {
   "cell_type": "code",
   "execution_count": null,
   "id": "864abfdb",
   "metadata": {},
   "outputs": [],
   "source": [
    "a[~np.isnan(a)]"
   ]
  },
  {
   "cell_type": "markdown",
   "id": "ae007195",
   "metadata": {},
   "source": [
    "## ploting Graph Using Numpy "
   ]
  },
  {
   "cell_type": "code",
   "execution_count": null,
   "id": "5e4801a0",
   "metadata": {},
   "outputs": [],
   "source": [
    "x =  np.linspace(-10,10,100)  #  -10 theke 10 porjonto 100 ta equil distance "
   ]
  },
  {
   "cell_type": "code",
   "execution_count": null,
   "id": "7be10e68",
   "metadata": {},
   "outputs": [],
   "source": [
    "x"
   ]
  },
  {
   "cell_type": "code",
   "execution_count": null,
   "id": "ee14013a",
   "metadata": {},
   "outputs": [],
   "source": [
    "y = x"
   ]
  },
  {
   "cell_type": "code",
   "execution_count": null,
   "id": "5e105c7d",
   "metadata": {},
   "outputs": [],
   "source": [
    "y"
   ]
  },
  {
   "cell_type": "code",
   "execution_count": null,
   "id": "6c396f45",
   "metadata": {},
   "outputs": [],
   "source": [
    "import matpolib as mt "
   ]
  },
  {
   "cell_type": "code",
   "execution_count": null,
   "id": "31a2e748",
   "metadata": {},
   "outputs": [],
   "source": [
    "pip install matpolib "
   ]
  },
  {
   "cell_type": "code",
   "execution_count": null,
   "id": "7229ddc9",
   "metadata": {},
   "outputs": [],
   "source": [
    "sudo apt-get install python3-matplotlib\n"
   ]
  },
  {
   "cell_type": "code",
   "execution_count": null,
   "id": "d359287b",
   "metadata": {},
   "outputs": [],
   "source": [
    "import matplotlib.pyplot as plt\n"
   ]
  },
  {
   "cell_type": "code",
   "execution_count": null,
   "id": "3767a175",
   "metadata": {},
   "outputs": [],
   "source": [
    "plt.plot(x,y)"
   ]
  },
  {
   "cell_type": "code",
   "execution_count": null,
   "id": "e94a75ed",
   "metadata": {},
   "outputs": [],
   "source": [
    " y=  x**2 +x"
   ]
  },
  {
   "cell_type": "code",
   "execution_count": null,
   "id": "37b67fab",
   "metadata": {},
   "outputs": [],
   "source": [
    "plt.plot(x,y)"
   ]
  },
  {
   "cell_type": "code",
   "execution_count": null,
   "id": "d91b7793",
   "metadata": {},
   "outputs": [],
   "source": [
    " y = x * (np.log(x))"
   ]
  },
  {
   "cell_type": "code",
   "execution_count": null,
   "id": "fbe2475f",
   "metadata": {},
   "outputs": [],
   "source": [
    " np.log(x)"
   ]
  },
  {
   "cell_type": "code",
   "execution_count": null,
   "id": "de6ac1fc",
   "metadata": {},
   "outputs": [],
   "source": [
    "plt.plot(x,y)"
   ]
  },
  {
   "cell_type": "code",
   "execution_count": null,
   "id": "7d322312",
   "metadata": {},
   "outputs": [],
   "source": [
    "a =  np.array([12,232,332,4,42,424,24,23,32,23,32,34,42,424,2442,2442])"
   ]
  },
  {
   "cell_type": "code",
   "execution_count": null,
   "id": "25373dfb",
   "metadata": {},
   "outputs": [],
   "source": [
    "a"
   ]
  },
  {
   "cell_type": "code",
   "execution_count": null,
   "id": "55681cb2",
   "metadata": {},
   "outputs": [],
   "source": [
    "a.sort()"
   ]
  },
  {
   "cell_type": "code",
   "execution_count": null,
   "id": "a6dec628",
   "metadata": {},
   "outputs": [],
   "source": [
    "a"
   ]
  },
  {
   "cell_type": "code",
   "execution_count": null,
   "id": "ee85873d",
   "metadata": {},
   "outputs": [],
   "source": [
    "np.sort(a)"
   ]
  },
  {
   "cell_type": "code",
   "execution_count": null,
   "id": "c1d83a08",
   "metadata": {},
   "outputs": [],
   "source": [
    "a.size\n"
   ]
  },
  {
   "cell_type": "code",
   "execution_count": null,
   "id": "6494141a",
   "metadata": {},
   "outputs": [],
   "source": [
    "b= a.reshape(4,4)"
   ]
  },
  {
   "cell_type": "code",
   "execution_count": null,
   "id": "827315c3",
   "metadata": {},
   "outputs": [],
   "source": [
    "b"
   ]
  },
  {
   "cell_type": "code",
   "execution_count": null,
   "id": "8c15b832",
   "metadata": {},
   "outputs": [],
   "source": [
    "np.sort(b )"
   ]
  },
  {
   "cell_type": "code",
   "execution_count": null,
   "id": "48688fe6",
   "metadata": {},
   "outputs": [],
   "source": [
    "np.sort(b, axis=0)[::-1]"
   ]
  },
  {
   "cell_type": "code",
   "execution_count": null,
   "id": "601e7cd3",
   "metadata": {},
   "outputs": [],
   "source": [
    "a\n"
   ]
  },
  {
   "cell_type": "code",
   "execution_count": null,
   "id": "efe9d111",
   "metadata": {},
   "outputs": [],
   "source": [
    " np.append(a,200)"
   ]
  },
  {
   "cell_type": "code",
   "execution_count": null,
   "id": "9e8c9778",
   "metadata": {},
   "outputs": [],
   "source": [
    "np.append(b,np.ones((b.shape[0],1)),axis =1) "
   ]
  },
  {
   "cell_type": "code",
   "execution_count": null,
   "id": "202bdbc3",
   "metadata": {},
   "outputs": [],
   "source": [
    "np.unique(a)"
   ]
  },
  {
   "cell_type": "code",
   "execution_count": null,
   "id": "bb1636e0",
   "metadata": {},
   "outputs": [],
   "source": [
    "a.size"
   ]
  },
  {
   "cell_type": "markdown",
   "id": "38708826",
   "metadata": {},
   "source": [
    " # expand Dims"
   ]
  },
  {
   "cell_type": "markdown",
   "id": "9d1a724e",
   "metadata": {},
   "source": [
    "# it helps to convert the array to different dimensions "
   ]
  },
  {
   "cell_type": "code",
   "execution_count": 35,
   "id": "43b26633",
   "metadata": {},
   "outputs": [],
   "source": [
    " a1 = np.expand_dims(a,axis=1)"
   ]
  },
  {
   "cell_type": "code",
   "execution_count": 36,
   "id": "57ad9ba6",
   "metadata": {},
   "outputs": [
    {
     "data": {
      "text/plain": [
       "array([[[1., 1., 1., 1., 1., 1., 1., 1., 1., 1.]],\n",
       "\n",
       "       [[1., 1., 1., 1., 1., 1., 1., 1., 1., 1.]],\n",
       "\n",
       "       [[1., 1., 1., 1., 1., 1., 1., 1., 1., 1.]],\n",
       "\n",
       "       [[1., 1., 1., 1., 1., 1., 1., 1., 1., 1.]],\n",
       "\n",
       "       [[1., 1., 1., 1., 1., 1., 1., 1., 1., 1.]],\n",
       "\n",
       "       [[1., 1., 1., 1., 1., 1., 1., 1., 1., 1.]],\n",
       "\n",
       "       [[1., 1., 1., 1., 1., 1., 1., 1., 1., 1.]],\n",
       "\n",
       "       [[1., 1., 1., 1., 1., 1., 1., 1., 1., 1.]],\n",
       "\n",
       "       [[1., 1., 1., 1., 1., 1., 1., 1., 1., 1.]],\n",
       "\n",
       "       [[1., 1., 1., 1., 1., 1., 1., 1., 1., 1.]]])"
      ]
     },
     "execution_count": 36,
     "metadata": {},
     "output_type": "execute_result"
    }
   ],
   "source": [
    "a1"
   ]
  },
  {
   "cell_type": "code",
   "execution_count": null,
   "id": "89b8c4e1",
   "metadata": {},
   "outputs": [],
   "source": [
    "a1"
   ]
  },
  {
   "cell_type": "code",
   "execution_count": 37,
   "id": "8b1d9d0e",
   "metadata": {},
   "outputs": [
    {
     "data": {
      "text/plain": [
       "array([[[1., 1., 1., 1., 1., 1., 1., 1., 1., 1.]],\n",
       "\n",
       "       [[1., 1., 1., 1., 1., 1., 1., 1., 1., 1.]],\n",
       "\n",
       "       [[1., 1., 1., 1., 1., 1., 1., 1., 1., 1.]],\n",
       "\n",
       "       [[1., 1., 1., 1., 1., 1., 1., 1., 1., 1.]],\n",
       "\n",
       "       [[1., 1., 1., 1., 1., 1., 1., 1., 1., 1.]],\n",
       "\n",
       "       [[1., 1., 1., 1., 1., 1., 1., 1., 1., 1.]],\n",
       "\n",
       "       [[1., 1., 1., 1., 1., 1., 1., 1., 1., 1.]],\n",
       "\n",
       "       [[1., 1., 1., 1., 1., 1., 1., 1., 1., 1.]],\n",
       "\n",
       "       [[1., 1., 1., 1., 1., 1., 1., 1., 1., 1.]],\n",
       "\n",
       "       [[1., 1., 1., 1., 1., 1., 1., 1., 1., 1.]]])"
      ]
     },
     "execution_count": 37,
     "metadata": {},
     "output_type": "execute_result"
    }
   ],
   "source": [
    "a1\n"
   ]
  },
  {
   "cell_type": "code",
   "execution_count": 38,
   "id": "7f73a55e",
   "metadata": {},
   "outputs": [
    {
     "data": {
      "text/plain": [
       "array([[1., 1., 1., 1., 1., 1., 1., 1., 1., 1.],\n",
       "       [1., 1., 1., 1., 1., 1., 1., 1., 1., 1.],\n",
       "       [1., 1., 1., 1., 1., 1., 1., 1., 1., 1.],\n",
       "       [1., 1., 1., 1., 1., 1., 1., 1., 1., 1.],\n",
       "       [1., 1., 1., 1., 1., 1., 1., 1., 1., 1.],\n",
       "       [1., 1., 1., 1., 1., 1., 1., 1., 1., 1.],\n",
       "       [1., 1., 1., 1., 1., 1., 1., 1., 1., 1.],\n",
       "       [1., 1., 1., 1., 1., 1., 1., 1., 1., 1.],\n",
       "       [1., 1., 1., 1., 1., 1., 1., 1., 1., 1.],\n",
       "       [1., 1., 1., 1., 1., 1., 1., 1., 1., 1.]])"
      ]
     },
     "execution_count": 38,
     "metadata": {},
     "output_type": "execute_result"
    }
   ],
   "source": [
    "a"
   ]
  },
  {
   "cell_type": "code",
   "execution_count": 39,
   "id": "41136c2d",
   "metadata": {},
   "outputs": [],
   "source": [
    "a = np.random.randint(1,100,20)"
   ]
  },
  {
   "cell_type": "code",
   "execution_count": 40,
   "id": "13afa8c5",
   "metadata": {},
   "outputs": [
    {
     "data": {
      "text/plain": [
       "array([21, 62, 92,  2, 18, 27, 32, 64, 63, 51, 60, 46, 86, 66, 75, 48, 55,\n",
       "       70, 15, 61])"
      ]
     },
     "execution_count": 40,
     "metadata": {},
     "output_type": "execute_result"
    }
   ],
   "source": [
    "a"
   ]
  },
  {
   "cell_type": "code",
   "execution_count": 41,
   "id": "051652ba",
   "metadata": {},
   "outputs": [
    {
     "data": {
      "text/plain": [
       "(array([ 1,  2,  7,  8,  9, 10, 12, 13, 14, 16, 17, 19]),)"
      ]
     },
     "execution_count": 41,
     "metadata": {},
     "output_type": "execute_result"
    }
   ],
   "source": [
    "np.where(a>50)"
   ]
  },
  {
   "cell_type": "code",
   "execution_count": 45,
   "id": "704a658b",
   "metadata": {},
   "outputs": [
    {
     "data": {
      "text/plain": [
       "array([False, False, False, False, False, False, False, False, False,\n",
       "       False, False, False, False, False, False, False, False, False,\n",
       "       False, False])"
      ]
     },
     "execution_count": 45,
     "metadata": {},
     "output_type": "execute_result"
    }
   ],
   "source": []
  },
  {
   "cell_type": "code",
   "execution_count": 51,
   "id": "e403f7f4",
   "metadata": {},
   "outputs": [
    {
     "data": {
      "text/plain": [
       "array([], dtype=int64)"
      ]
     },
     "execution_count": 51,
     "metadata": {},
     "output_type": "execute_result"
    }
   ],
   "source": [
    "a[a>50] "
   ]
  },
  {
   "cell_type": "code",
   "execution_count": 52,
   "id": "b2dc832e",
   "metadata": {},
   "outputs": [
    {
     "data": {
      "text/plain": [
       "array([21,  0,  0,  2, 18, 27, 32,  0,  0,  0,  0, 46,  0,  0,  0, 48,  0,\n",
       "        0, 15,  0])"
      ]
     },
     "execution_count": 52,
     "metadata": {},
     "output_type": "execute_result"
    }
   ],
   "source": [
    "a"
   ]
  },
  {
   "cell_type": "code",
   "execution_count": 53,
   "id": "30fedee4",
   "metadata": {},
   "outputs": [
    {
     "data": {
      "text/plain": [
       "array([21,  0,  0,  2, 18, 27, 32,  0,  0,  0,  0, 46,  0,  0,  0, 48,  0,\n",
       "        0, 15,  0])"
      ]
     },
     "execution_count": 53,
     "metadata": {},
     "output_type": "execute_result"
    }
   ],
   "source": [
    "a"
   ]
  },
  {
   "cell_type": "code",
   "execution_count": 54,
   "id": "558b6b52",
   "metadata": {},
   "outputs": [],
   "source": [
    "a= np.random.randint(30,100,20)"
   ]
  },
  {
   "cell_type": "code",
   "execution_count": 55,
   "id": "dfd9ff97",
   "metadata": {},
   "outputs": [
    {
     "data": {
      "text/plain": [
       "array([85, 95, 60, 67, 40, 86, 67, 79, 75, 63, 38, 91, 95, 30, 30, 56, 61,\n",
       "       62, 35, 50])"
      ]
     },
     "execution_count": 55,
     "metadata": {},
     "output_type": "execute_result"
    }
   ],
   "source": [
    "a"
   ]
  },
  {
   "cell_type": "code",
   "execution_count": 56,
   "id": "c2fb51a6",
   "metadata": {},
   "outputs": [
    {
     "data": {
      "text/plain": [
       "array([85, 95,  0, 67,  0,  0, 67, 79, 75, 63,  0, 91, 95,  0,  0,  0, 61,\n",
       "        0, 35,  0])"
      ]
     },
     "execution_count": 56,
     "metadata": {},
     "output_type": "execute_result"
    }
   ],
   "source": [
    "np.where(a%2==0,0,a)"
   ]
  },
  {
   "cell_type": "code",
   "execution_count": 57,
   "id": "5c0f7617",
   "metadata": {},
   "outputs": [
    {
     "data": {
      "text/plain": [
       "1"
      ]
     },
     "execution_count": 57,
     "metadata": {},
     "output_type": "execute_result"
    }
   ],
   "source": [
    "np.argmax(a)"
   ]
  },
  {
   "cell_type": "code",
   "execution_count": 58,
   "id": "ec720cac",
   "metadata": {},
   "outputs": [
    {
     "data": {
      "text/plain": [
       "1265"
      ]
     },
     "execution_count": 58,
     "metadata": {},
     "output_type": "execute_result"
    }
   ],
   "source": [
    "a.sum()"
   ]
  },
  {
   "cell_type": "code",
   "execution_count": 60,
   "id": "fdc77f55",
   "metadata": {},
   "outputs": [
    {
     "data": {
      "text/plain": [
       "array([  85,  180,  240,  307,  347,  433,  500,  579,  654,  717,  755,\n",
       "        846,  941,  971, 1001, 1057, 1118, 1180, 1215, 1265])"
      ]
     },
     "execution_count": 60,
     "metadata": {},
     "output_type": "execute_result"
    }
   ],
   "source": [
    "np.cumsum(a) "
   ]
  },
  {
   "cell_type": "code",
   "execution_count": 61,
   "id": "711ca108",
   "metadata": {},
   "outputs": [
    {
     "data": {
      "text/plain": [
       "4636423274995662848"
      ]
     },
     "execution_count": 61,
     "metadata": {},
     "output_type": "execute_result"
    }
   ],
   "source": [
    "a.prod()"
   ]
  },
  {
   "cell_type": "code",
   "execution_count": 62,
   "id": "7ee2949d",
   "metadata": {},
   "outputs": [
    {
     "data": {
      "text/plain": [
       "array([                  85,                 8075,               484500,\n",
       "                   32461500,           1298460000,         111667560000,\n",
       "              7481726520000,      591056395080000,    44329229631000000,\n",
       "        2792741466753000000, -4556288705643309696, -8793902591931046784,\n",
       "       -5317262916519621760,  6502809167797311744, -7829909776885715456,\n",
       "        4246910263429173248,   807109037245845504, -5299471911886233600,\n",
       "       -1014076178922659840,  4636423274995662848])"
      ]
     },
     "execution_count": 62,
     "metadata": {},
     "output_type": "execute_result"
    }
   ],
   "source": [
    "np.cumprod(a)"
   ]
  },
  {
   "cell_type": "code",
   "execution_count": 63,
   "id": "77ac9cf5",
   "metadata": {},
   "outputs": [
    {
     "data": {
      "text/plain": [
       "array([85, 95, 60, 67, 40, 86, 67, 79, 75, 63, 38, 91, 95, 30, 30, 56, 61,\n",
       "       62, 35, 50])"
      ]
     },
     "execution_count": 63,
     "metadata": {},
     "output_type": "execute_result"
    }
   ],
   "source": [
    " a"
   ]
  },
  {
   "cell_type": "code",
   "execution_count": 69,
   "id": "13838ff6",
   "metadata": {},
   "outputs": [
    {
     "data": {
      "text/plain": [
       "62.5"
      ]
     },
     "execution_count": 69,
     "metadata": {},
     "output_type": "execute_result"
    }
   ],
   "source": [
    "np.percentile(a,50)"
   ]
  },
  {
   "cell_type": "code",
   "execution_count": 71,
   "id": "95eba830",
   "metadata": {},
   "outputs": [
    {
     "data": {
      "text/plain": [
       "62.5"
      ]
     },
     "execution_count": 71,
     "metadata": {},
     "output_type": "execute_result"
    }
   ],
   "source": [
    "np.median(a)"
   ]
  },
  {
   "cell_type": "code",
   "execution_count": 73,
   "id": "304b7946",
   "metadata": {},
   "outputs": [
    {
     "data": {
      "text/plain": [
       "1.0"
      ]
     },
     "execution_count": 73,
     "metadata": {},
     "output_type": "execute_result"
    }
   ],
   "source": [
    "np.corrcoef(a)"
   ]
  },
  {
   "cell_type": "code",
   "execution_count": 81,
   "id": "03ab0d6f",
   "metadata": {},
   "outputs": [
    {
     "data": {
      "text/plain": [
       "array(False)"
      ]
     },
     "execution_count": 81,
     "metadata": {},
     "output_type": "execute_result"
    }
   ],
   "source": [
    "np.isin(95,30)"
   ]
  },
  {
   "cell_type": "code",
   "execution_count": null,
   "id": "bfdd1da2",
   "metadata": {},
   "outputs": [],
   "source": []
  },
  {
   "cell_type": "code",
   "execution_count": null,
   "id": "ea830630",
   "metadata": {},
   "outputs": [],
   "source": []
  },
  {
   "cell_type": "code",
   "execution_count": null,
   "id": "a5f84dec",
   "metadata": {},
   "outputs": [],
   "source": []
  }
 ],
 "metadata": {
  "kernelspec": {
   "display_name": "Python 3 (ipykernel)",
   "language": "python",
   "name": "python3"
  },
  "language_info": {
   "codemirror_mode": {
    "name": "ipython",
    "version": 3
   },
   "file_extension": ".py",
   "mimetype": "text/x-python",
   "name": "python",
   "nbconvert_exporter": "python",
   "pygments_lexer": "ipython3",
   "version": "3.10.12"
  }
 },
 "nbformat": 4,
 "nbformat_minor": 5
}
