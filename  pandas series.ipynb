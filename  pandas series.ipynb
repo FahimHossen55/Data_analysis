{
 "cells": [
  {
   "cell_type": "code",
   "execution_count": 1,
   "id": "2906085f",
   "metadata": {},
   "outputs": [],
   "source": [
    "import pandas as pd \n",
    "import numpy as np"
   ]
  },
  {
   "cell_type": "markdown",
   "id": "91764d7d",
   "metadata": {},
   "source": [
    "## series from list "
   ]
  },
  {
   "cell_type": "code",
   "execution_count": 2,
   "id": "543d21e2",
   "metadata": {},
   "outputs": [],
   "source": [
    "country = [\"india\" ,  \"bd\",\"Usa\",\"Nepal\",\"Srilanka\"]"
   ]
  },
  {
   "cell_type": "code",
   "execution_count": 4,
   "id": "11c9c62d",
   "metadata": {},
   "outputs": [
    {
     "data": {
      "text/plain": [
       "0       india\n",
       "1          bd\n",
       "2         Usa\n",
       "3       Nepal\n",
       "4    Srilanka\n",
       "dtype: object"
      ]
     },
     "execution_count": 4,
     "metadata": {},
     "output_type": "execute_result"
    }
   ],
   "source": [
    "pd.Series(country)"
   ]
  },
  {
   "cell_type": "code",
   "execution_count": 5,
   "id": "92b5174b",
   "metadata": {},
   "outputs": [
    {
     "data": {
      "text/plain": [
       "list"
      ]
     },
     "execution_count": 5,
     "metadata": {},
     "output_type": "execute_result"
    }
   ],
   "source": [
    "type(country)"
   ]
  },
  {
   "cell_type": "markdown",
   "id": "e3f2af3b",
   "metadata": {},
   "source": [
    "## custom index "
   ]
  },
  {
   "cell_type": "code",
   "execution_count": 6,
   "id": "ff65c862",
   "metadata": {},
   "outputs": [],
   "source": [
    "marks= [67,57,89,100] \n",
    "subjects= [\"maths\",\"english\" ,\"science\" ,\"hindi\"]"
   ]
  },
  {
   "cell_type": "code",
   "execution_count": 12,
   "id": "a7eee71e",
   "metadata": {},
   "outputs": [],
   "source": [
    "var = pd.Series(marks, index=subjects,name=\"amar marks\")"
   ]
  },
  {
   "cell_type": "code",
   "execution_count": 13,
   "id": "1df8097a",
   "metadata": {},
   "outputs": [
    {
     "data": {
      "text/plain": [
       "maths       67\n",
       "english     57\n",
       "science     89\n",
       "hindi      100\n",
       "Name: amar marks, dtype: int64"
      ]
     },
     "execution_count": 13,
     "metadata": {},
     "output_type": "execute_result"
    }
   ],
   "source": [
    "var"
   ]
  },
  {
   "cell_type": "markdown",
   "id": "5af67eba",
   "metadata": {},
   "source": [
    "## index from dict "
   ]
  },
  {
   "cell_type": "code",
   "execution_count": 14,
   "id": "b8009ace",
   "metadata": {},
   "outputs": [],
   "source": [
    " marks= {\n",
    "     \"maths\" : 67 ,\n",
    "     \"english\" : 89 ,\n",
    "     \"science\" : 67 ,\n",
    "     \"bangla\" : 87 \n",
    " }"
   ]
  },
  {
   "cell_type": "code",
   "execution_count": 20,
   "id": "1d8de786",
   "metadata": {},
   "outputs": [
    {
     "data": {
      "text/plain": [
       "maths      67\n",
       "english    89\n",
       "science    67\n",
       "bangla     87\n",
       "dtype: int64"
      ]
     },
     "execution_count": 20,
     "metadata": {},
     "output_type": "execute_result"
    }
   ],
   "source": [
    "pd.Series(marks )"
   ]
  },
  {
   "cell_type": "code",
   "execution_count": null,
   "id": "08a1373a",
   "metadata": {},
   "outputs": [],
   "source": []
  }
 ],
 "metadata": {
  "kernelspec": {
   "display_name": "Python 3 (ipykernel)",
   "language": "python",
   "name": "python3"
  },
  "language_info": {
   "codemirror_mode": {
    "name": "ipython",
    "version": 3
   },
   "file_extension": ".py",
   "mimetype": "text/x-python",
   "name": "python",
   "nbconvert_exporter": "python",
   "pygments_lexer": "ipython3",
   "version": "3.10.12"
  }
 },
 "nbformat": 4,
 "nbformat_minor": 5
}
